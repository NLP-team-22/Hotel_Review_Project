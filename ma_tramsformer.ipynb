{
 "cells": [
  {
   "cell_type": "code",
   "execution_count": null,
   "id": "6c6f7cbf",
   "metadata": {},
   "outputs": [],
   "source": [
    "from tensorflow.keras.layers import MultiHeadAttention\n",
    "from tensorflow.keras.layers import Layer, Dense, LayerNormalization, Dropout\n",
    "from tensorflow.keras.callbacks import LearningRateScheduler\n",
    "from tensorflow.keras.layers import Embedding, GlobalAveragePooling1D, Input\n",
    "from tensorflow.keras.models import Model\n",
    "from tensorflow.keras.regularizers import l2\n",
    "from sklearn.model_selection import KFold\n",
    "import matplotlib.pyplot as plt\n",
    "import tensorflow as tf\n",
    "import seaborn as sns\n",
    "import numpy as np\n",
    "\n",
    "\n",
    "import warnings\n",
    "warnings.filterwarnings(\"ignore\", category=np.VisibleDeprecationWarning)"
   ]
  },
  {
   "cell_type": "code",
   "execution_count": null,
   "id": "1731f3ae",
   "metadata": {},
   "outputs": [
    {
     "data": {
      "text/html": [
       "<div>\n",
       "<style scoped>\n",
       "    .dataframe tbody tr th:only-of-type {\n",
       "        vertical-align: middle;\n",
       "    }\n",
       "\n",
       "    .dataframe tbody tr th {\n",
       "        vertical-align: top;\n",
       "    }\n",
       "\n",
       "    .dataframe thead th {\n",
       "        text-align: right;\n",
       "    }\n",
       "</style>\n",
       "<table border=\"1\" class=\"dataframe\">\n",
       "  <thead>\n",
       "    <tr style=\"text-align: right;\">\n",
       "      <th></th>\n",
       "      <th>Review</th>\n",
       "      <th>Rating</th>\n",
       "    </tr>\n",
       "  </thead>\n",
       "  <tbody>\n",
       "    <tr>\n",
       "      <th>0</th>\n",
       "      <td>nice hotel expensive parking got good deal sta...</td>\n",
       "      <td>4</td>\n",
       "    </tr>\n",
       "    <tr>\n",
       "      <th>1</th>\n",
       "      <td>ok nothing special charge diamond member hilto...</td>\n",
       "      <td>2</td>\n",
       "    </tr>\n",
       "    <tr>\n",
       "      <th>2</th>\n",
       "      <td>nice rooms not 4* experience hotel monaco seat...</td>\n",
       "      <td>3</td>\n",
       "    </tr>\n",
       "    <tr>\n",
       "      <th>3</th>\n",
       "      <td>unique, great stay, wonderful time hotel monac...</td>\n",
       "      <td>5</td>\n",
       "    </tr>\n",
       "    <tr>\n",
       "      <th>4</th>\n",
       "      <td>great stay great stay, went seahawk game aweso...</td>\n",
       "      <td>5</td>\n",
       "    </tr>\n",
       "    <tr>\n",
       "      <th>...</th>\n",
       "      <td>...</td>\n",
       "      <td>...</td>\n",
       "    </tr>\n",
       "    <tr>\n",
       "      <th>20486</th>\n",
       "      <td>best kept secret 3rd time staying charm, not 5...</td>\n",
       "      <td>5</td>\n",
       "    </tr>\n",
       "    <tr>\n",
       "      <th>20487</th>\n",
       "      <td>great location price view hotel great quick pl...</td>\n",
       "      <td>4</td>\n",
       "    </tr>\n",
       "    <tr>\n",
       "      <th>20488</th>\n",
       "      <td>ok just looks nice modern outside, desk staff ...</td>\n",
       "      <td>2</td>\n",
       "    </tr>\n",
       "    <tr>\n",
       "      <th>20489</th>\n",
       "      <td>hotel theft ruined vacation hotel opened sept ...</td>\n",
       "      <td>1</td>\n",
       "    </tr>\n",
       "    <tr>\n",
       "      <th>20490</th>\n",
       "      <td>people talking, ca n't believe excellent ratin...</td>\n",
       "      <td>2</td>\n",
       "    </tr>\n",
       "  </tbody>\n",
       "</table>\n",
       "<p>20491 rows × 2 columns</p>\n",
       "</div>"
      ],
      "text/plain": [
       "                                                  Review  Rating\n",
       "0      nice hotel expensive parking got good deal sta...       4\n",
       "1      ok nothing special charge diamond member hilto...       2\n",
       "2      nice rooms not 4* experience hotel monaco seat...       3\n",
       "3      unique, great stay, wonderful time hotel monac...       5\n",
       "4      great stay great stay, went seahawk game aweso...       5\n",
       "...                                                  ...     ...\n",
       "20486  best kept secret 3rd time staying charm, not 5...       5\n",
       "20487  great location price view hotel great quick pl...       4\n",
       "20488  ok just looks nice modern outside, desk staff ...       2\n",
       "20489  hotel theft ruined vacation hotel opened sept ...       1\n",
       "20490  people talking, ca n't believe excellent ratin...       2\n",
       "\n",
       "[20491 rows x 2 columns]"
      ]
     },
     "execution_count": 181,
     "metadata": {},
     "output_type": "execute_result"
    }
   ],
   "source": [
    "df = pd.read_csv('./tripadvisor_hotel_reviews.csv')\n",
    "df"
   ]
  },
  {
   "cell_type": "code",
   "execution_count": 182,
   "id": "9ec7ed81",
   "metadata": {},
   "outputs": [
    {
     "name": "stdout",
     "output_type": "stream",
     "text": [
      "Rating\n",
      "5    9054\n",
      "4    6039\n",
      "3    2184\n",
      "2    1793\n",
      "1    1421\n",
      "Name: count, dtype: int64\n"
     ]
    }
   ],
   "source": [
    "class_distribution = df['Rating'].value_counts()\n",
    "print(class_distribution)"
   ]
  },
  {
   "cell_type": "code",
   "execution_count": 183,
   "id": "ca21bf3a",
   "metadata": {},
   "outputs": [
    {
     "data": {
      "image/png": "[encoded data removed]",
      "text/plain": [
       "<Figure size 1000x600 with 1 Axes>"
      ]
     },
     "metadata": {},
     "output_type": "display_data"
    }
   ],
   "source": [
    "sns.set_style(\"whitegrid\")\n",
    "\n",
    "# Plot the distribution of ratings\n",
    "plt.figure(figsize=(10, 6))\n",
    "class_distribution.plot(kind='bar')\n",
    "plt.title('Distribution of Ratings')\n",
    "plt.xlabel('Rating')\n",
    "plt.ylabel('Number of Reviews')\n",
    "plt.show()"
   ]
  },
  {
   "cell_type": "code",
   "execution_count": 227,
   "id": "98371642",
   "metadata": {},
   "outputs": [],
   "source": [
    "tokenizer = Tokenizer()\n",
    "tokenizer.fit_on_texts(df['Review'])\n",
    "vocab_size = len(tokenizer.word_index) + 1\n",
    "\n",
    "# Convert text to sequences\n",
    "sequences = tokenizer.texts_to_sequences(df['Review'])\n",
    "\n",
    "\n",
    "\n",
    "#90% of sequences are around 200.\n",
    "padded_sequences = pad_sequences(sequences, maxlen=200, padding='post')\n",
    "max_seq_length = 200\n",
    "\n",
    "X_train, X_test, y_train, y_test = train_test_split(padded_sequences, df['Rating'], test_size=0.3, random_state=22)\n",
    "\n",
    "#fit the model [0,5)\n",
    "y_train -= 1\n",
    "y_test -= 1"
   ]
  },
  {
   "cell_type": "code",
   "execution_count": 213,
   "id": "c246a72c",
   "metadata": {},
   "outputs": [
    {
     "name": "stdout",
     "output_type": "stream",
     "text": [
      "Rating\n",
      "4    0.442237\n",
      "3    0.295754\n",
      "2    0.106742\n",
      "1    0.086035\n",
      "0    0.069232\n",
      "Name: proportion, dtype: float64\n",
      "Rating\n",
      "4    0.440956\n",
      "3    0.292290\n",
      "2    0.106213\n",
      "1    0.090924\n",
      "0    0.069616\n",
      "Name: proportion, dtype: float64\n"
     ]
    }
   ],
   "source": [
    "# Check distribution in the training set\n",
    "print(y_train.value_counts(normalize=True))\n",
    "\n",
    "# Check distribution in the testing set\n",
    "print(y_test.value_counts(normalize=True))"
   ]
  },
  {
   "cell_type": "markdown",
   "id": "20bc81ce",
   "metadata": {},
   "source": [
    "PreNorm"
   ]
  },
  {
   "cell_type": "code",
   "execution_count": 232,
   "id": "2bc5f600",
   "metadata": {},
   "outputs": [],
   "source": [
    "class TransformerBlock(Layer):\n",
    "    def __init__(self, embed_dim, num_heads, ff_dim, rate=0.2):\n",
    "        super(TransformerBlock, self).__init__()\n",
    "        self.att = MultiHeadAttention(num_heads=num_heads, key_dim=embed_dim)\n",
    "        self.ffn = tf.keras.Sequential(\n",
    "            [Dense(ff_dim, activation=\"relu\"), Dense(embed_dim),]\n",
    "#         self.ffn = tf.keras.Sequential(\n",
    "#     [Dense(ff_dim, activation=\"relu\", kernel_regularizer=l2(1e-4)), \n",
    "#      Dense(embed_dim, kernel_regularizer=l2(1e-4)),]\n",
    ")\n",
    "        \n",
    "        self.layernorm1 = LayerNormalization(epsilon=1e-6)\n",
    "        self.layernorm2 = LayerNormalization(epsilon=1e-6)\n",
    "        self.dropout1 = Dropout(0.2)\n",
    "        self.dropout2 = Dropout(0.2)\n",
    "\n",
    "    def call(self, inputs, training):\n",
    "        # Apply LayerNorm before the attention\n",
    "        norm1 = self.layernorm1(inputs)\n",
    "        attn_output = self.att(norm1, norm1)\n",
    "        attn_output = self.dropout1(attn_output, training=training)\n",
    "        out1 = inputs + attn_output  # Skip connection\n",
    "        \n",
    "        # Apply LayerNorm before the FFN\n",
    "        norm2 = self.layernorm2(out1)\n",
    "        ffn_output = self.ffn(norm2)\n",
    "        ffn_output = self.dropout2(ffn_output, training=training)\n",
    "        return out1 + ffn_output \n",
    "    \n",
    "\n"
   ]
  },
  {
   "cell_type": "markdown",
   "id": "ed8720af",
   "metadata": {},
   "source": [
    "PostNorm only after FFN"
   ]
  },
  {
   "cell_type": "code",
   "execution_count": 94,
   "id": "aaeb4dff",
   "metadata": {},
   "outputs": [],
   "source": [
    "class TransformerBlock(Layer):\n",
    "    def __init__(self, embed_dim, num_heads, ff_dim, rate=0.2):\n",
    "        super(TransformerBlock, self).__init__()\n",
    "        self.att = MultiHeadAttention(num_heads=num_heads, key_dim=embed_dim)\n",
    "        self.ffn = tf.keras.Sequential(\n",
    "            [Dense(ff_dim, activation=\"relu\"), Dense(embed_dim),]\n",
    "        )\n",
    "        self.layernorm = LayerNormalization(epsilon=1e-6)  # Only one LayerNorm after FFN\n",
    "        self.dropout1 = Dropout(rate)\n",
    "        self.dropout2 = Dropout(rate)\n",
    "\n",
    "    def call(self, inputs, training):\n",
    "        attn_output = self.att(inputs, inputs)\n",
    "        attn_output = self.dropout1(attn_output, training=training)\n",
    "        out1 = inputs + attn_output  # Skip connection after attention\n",
    "        \n",
    "        ffn_output = self.ffn(out1)\n",
    "        ffn_output = self.dropout2(ffn_output, training=training)\n",
    "        # Apply LayerNorm only after FFN\n",
    "        return self.layernorm(out1 + ffn_output)"
   ]
  },
  {
   "cell_type": "code",
   "execution_count": 233,
   "id": "0b7bead9",
   "metadata": {},
   "outputs": [],
   "source": [
    "class TokenAndPositionEmbedding(Layer):\n",
    "    def __init__(self, maxlen, vocab_size, embed_dim):\n",
    "        super(TokenAndPositionEmbedding, self).__init__()\n",
    "        self.token_emb = Embedding(input_dim=vocab_size, output_dim=embed_dim)\n",
    "        self.pos_emb = Embedding(input_dim=maxlen, output_dim=embed_dim)\n",
    "\n",
    "    def call(self, x):\n",
    "        maxlen = tf.shape(x)[-1]\n",
    "        positions = tf.range(start=0, limit=maxlen, delta=1)\n",
    "        positions = self.pos_emb(positions)\n",
    "        x = self.token_emb(x)\n",
    "        return x + positions"
   ]
  },
  {
   "cell_type": "code",
   "execution_count": 234,
   "id": "a1521210",
   "metadata": {},
   "outputs": [],
   "source": [
    "def create_transformer_model(\n",
    "    num_blocks=2,\n",
    "    embed_dim=32, \n",
    "    num_heads=2, \n",
    "    ff_dim=32, \n",
    "    num_classes=5\n",
    "):\n",
    "    inputs = Input(shape=(max_seq_length,))\n",
    "    embedding_layer = TokenAndPositionEmbedding(max_seq_length, vocab_size, embed_dim)\n",
    "    \n",
    "    x = embedding_layer(inputs)\n",
    "    for _ in range(num_blocks):\n",
    "        x = TransformerBlock(embed_dim, num_heads, ff_dim)(x)\n",
    "    \n",
    "    x = GlobalAveragePooling1D()(x)\n",
    "    x = Dense(40, activation=\"relu\")(x)\n",
    "#     x = Dense(40, activation=\"relu\", kernel_regularizer=l2(1e-4))(x)\n",
    "    outputs = Dense(num_classes, activation=\"softmax\")(x)\n",
    "    model = Model(inputs=inputs, outputs=outputs)\n",
    "    return model\n",
    "\n",
    "model = create_transformer_model()\n",
    "model.compile(optimizer=\"adam\", loss=\"sparse_categorical_crossentropy\", metrics=[\"accuracy\"])"
   ]
  },
  {
   "cell_type": "code",
   "execution_count": 235,
   "id": "1c6b8c10",
   "metadata": {},
   "outputs": [
    {
     "name": "stdout",
     "output_type": "stream",
     "text": [
      "Epoch 1/5\n",
      "1640/1640 [==============================] - 17s 10ms/step - loss: 0.9407 - accuracy: 0.5837 - val_loss: 0.8385 - val_accuracy: 0.6279\n",
      "Epoch 2/5\n",
      "1640/1640 [==============================] - 16s 10ms/step - loss: 0.6446 - accuracy: 0.7277 - val_loss: 1.0498 - val_accuracy: 0.5905\n",
      "Epoch 3/5\n",
      "1640/1640 [==============================] - 17s 10ms/step - loss: 0.4173 - accuracy: 0.8360 - val_loss: 1.0721 - val_accuracy: 0.5908\n",
      "Epoch 4/5\n",
      "1640/1640 [==============================] - 18s 11ms/step - loss: 0.2367 - accuracy: 0.9131 - val_loss: 1.6076 - val_accuracy: 0.5820\n",
      "Epoch 5/5\n",
      "1640/1640 [==============================] - 18s 11ms/step - loss: 0.1332 - accuracy: 0.9522 - val_loss: 2.0650 - val_accuracy: 0.5883\n"
     ]
    }
   ],
   "source": [
    "history = model.fit(X_train, y_train, \n",
    "                    batch_size=10, epochs=5, \n",
    "                    validation_data=(X_test, y_test)\n",
    "                   )\n",
    "\n",
    "\n",
    "# def step_decay(epoch):\n",
    "#     initial_lr = 0.001  # Start with this learning rate\n",
    "#     drop = 0.5  # Reduce learning rate by half\n",
    "#     epochs_drop = 10.0  # Reduce every 10 epochs\n",
    "#     lr = initial_lr * np.power(drop, np.floor((1+epoch)/epochs_drop))\n",
    "#     return lr\n",
    "\n",
    "# # Add the LearningRateScheduler callback to the model\n",
    "# lr_scheduler = LearningRateScheduler(step_decay)\n",
    "\n",
    "# # Train the model with the scheduler callback\n",
    "# history = model.fit(\n",
    "#     X_train, y_train,\n",
    "#     validation_data=(X_test, y_test),\n",
    "#     epochs=50,\n",
    "#     batch_size=32,\n",
    "#     callbacks=[lr_scheduler]\n",
    "# )"
   ]
  },
  {
   "cell_type": "code",
   "execution_count": 230,
   "id": "b0346720",
   "metadata": {},
   "outputs": [
    {
     "name": "stdout",
     "output_type": "stream",
     "text": [
      "1/1 [==============================] - 0s 135ms/step\n",
      "Review: Good stuff\n",
      "Predicted Rating: 4.0\n",
      "\n",
      "1/1 [==============================] - 0s 13ms/step\n",
      "Review: Bad stuff\n",
      "Predicted Rating: 2.01\n",
      "\n",
      "1/1 [==============================] - 0s 13ms/step\n",
      "Review: surely the first choice for visitors who expect to be served in luxury way\n",
      "Predicted Rating: 5.0\n",
      "\n",
      "1/1 [==============================] - 0s 13ms/step\n",
      "Review: One of the nicest hotels I have ever stayed in. The property is simply beautiful and the history within its walls is quite incredible. What really makes the property special is the staff. They are incredible and nothing is too much trouble. The service is completely attentive without being obtrusive and makes one feel completely at home and also very special. A special mention to Irshad, Himmat, Fazal, Anil, Amit and Vishal. Irshad and Himmat were particularly helpful and helped to arrange a very special celebration for my daughter’s birthday. A mention also for Pradeep Kumar, Director of F&B who ensured all of our restaurant experiences were impeccable. I cannot recommend the hotel enough and cannot wait to return.\n",
      "Predicted Rating: 5.0\n",
      "\n",
      "1/1 [==============================] - 0s 13ms/step\n",
      "Review: I booked a Harbor View Room for two nights, When I arrived jet lagged I was told that I had broke a Chinese Sea View room and that the room I thought I had was not available. But I could upgrade to have the view I wanted. Unfortunately the print out I had with me was just the welcoming email and not the actual booking confirmation. And I couldn't find the email quickly on my phone after 24+h travel so I relented and thought something went wrong on my office's end and did the upgrade.Turns out when I got the booking confirmation that I had indeed booked the right room category, which I was denied on checkin. I wonder if there is some money making scheme at play here from the hotel, contacted them so will find out I guess but so far beware. I did not expect this from a Ritz. Room sure was nice and service great but this is concerning.\n",
      "Predicted Rating: 2.75\n",
      "\n",
      "1/1 [==============================] - 0s 12ms/step\n",
      "Review: Worse Service, Not be respected and non-professional treatment.\n",
      "Predicted Rating: 1.0\n",
      "\n",
      "1/1 [==============================] - 0s 15ms/step\n",
      "Review: Great experience and worthy of it’s stars! I highly recommend as the goto place for those special events and occasion’s!\n",
      "Predicted Rating: 4.99\n",
      "\n"
     ]
    }
   ],
   "source": [
    "mock_reviews = pd.Series(\n",
    "    [ \n",
    "        \"Good stuff\",\n",
    "        \"Bad stuff\",\n",
    "        \"surely the first choice for visitors who expect to be served in luxury way\",\n",
    "        #rating 5\n",
    "        \"One of the nicest hotels I have ever stayed in. The property is simply beautiful and the history within its walls is quite incredible. What really makes the property special is the staff. They are incredible and nothing is too much trouble. The service is completely attentive without being obtrusive and makes one feel completely at home and also very special. A special mention to Irshad, Himmat, Fazal, Anil, Amit and Vishal. Irshad and Himmat were particularly helpful and helped to arrange a very special celebration for my daughter’s birthday. A mention also for Pradeep Kumar, Director of F&B who ensured all of our restaurant experiences were impeccable. I cannot recommend the hotel enough and cannot wait to return.\",\n",
    "        #rating 5\n",
    "        \"I booked a Harbor View Room for two nights, When I arrived jet lagged I was told that I had broke a Chinese Sea View room and that the room I thought I had was not available. But I could upgrade to have the view I wanted. Unfortunately the print out I had with me was just the welcoming email and not the actual booking confirmation. And I couldn't find the email quickly on my phone after 24+h travel so I relented and thought something went wrong on my office's end and did the upgrade.Turns out when I got the booking confirmation that I had indeed booked the right room category, which I was denied on checkin. I wonder if there is some money making scheme at play here from the hotel, contacted them so will find out I guess but so far beware. I did not expect this from a Ritz. Room sure was nice and service great but this is concerning.\",\n",
    "        #ratting 2\n",
    "        \"Worse Service, Not be respected and non-professional treatment.\",\n",
    "        #rating 1\n",
    "        \"Great experience and worthy of it’s stars! I highly recommend as the goto place for those special events and occasion’s!\"\n",
    "        #rating 5\n",
    "    ]\n",
    ")\n",
    "\n",
    "def predict_rating(review):\n",
    "    x_review_seq = tokenizer.texts_to_sequences([review])\n",
    "    x_review_padded = pad_sequences(x_review_seq, maxlen=max_seq_length, padding='post')\n",
    "    prediction = model.predict(x_review_padded)\n",
    "    \n",
    "    rating = 0\n",
    "    for i, score in enumerate(prediction[0]):\n",
    "        rating += (i + 1) * score\n",
    "\n",
    "    print(f\"Review: {review}\\nPredicted Rating: {round(rating, 2)}\\n\")\n",
    "    \n",
    "for review in mock_reviews:\n",
    "    predict_rating(review)"
   ]
  },
  {
   "cell_type": "code",
   "execution_count": 231,
   "id": "7b7fda7c",
   "metadata": {},
   "outputs": [
    {
     "name": "stdout",
     "output_type": "stream",
     "text": [
      "Average accuracy across all folds: 0.574350094795227\n"
     ]
    }
   ],
   "source": [
    "kf = KFold(n_splits=5, shuffle=True, random_state=22)\n",
    "\n",
    "# Prepare an array to store the model's scores for each fold\n",
    "scores = []\n",
    "\n",
    "# Apply KFold cross-validation\n",
    "for train_index, test_index in kf.split(padded_sequences):\n",
    "    # Split the data into training and test sets for the current fold\n",
    "    X_train, X_test = padded_sequences[train_index], padded_sequences[test_index]\n",
    "    y_train, y_test = df['Rating'].iloc[train_index], df['Rating'].iloc[test_index]\n",
    "    \n",
    "    # Offset the ratings to start from 0\n",
    "    y_train -= 1\n",
    "    y_test -= 1\n",
    "    \n",
    "    #evaluate it on (X_test, y_test), for example:\n",
    "    model = create_transformer_model()  # Assuming this is your model function\n",
    "    model.compile(optimizer=\"adam\", loss=\"sparse_categorical_crossentropy\", metrics=[\"accuracy\"])\n",
    "    \n",
    "    # Fit the model on the training set\n",
    "    model.fit(X_train, y_train, batch_size=10, epochs=5, verbose=0)  # Set verbose to 0 for less output\n",
    "    \n",
    "    # Evaluate the model on the test set\n",
    "    score = model.evaluate(X_test, y_test, verbose=0)  # Set verbose to 0 for less output\n",
    "    \n",
    "    # Append the score to our scores array\n",
    "    scores.append(score)\n",
    "\n",
    "# Calculate and print the average accuracy across all folds\n",
    "average_score = np.mean([s[1] for s in scores])\n",
    "print(f'Average accuracy across all folds: {average_score}')"
   ]
  },
  {
   "cell_type": "code",
   "execution_count": null,
   "id": "383b0102",
   "metadata": {},
   "outputs": [],
   "source": []
  }
 ],
 "metadata": {
  "kernelspec": {
   "display_name": "Python 3 (ipykernel)",
   "language": "python",
   "name": "python3"
  },
  "language_info": {
   "codemirror_mode": {
    "name": "ipython",
    "version": 3
   },
   "file_extension": ".py",
   "mimetype": "text/x-python",
   "name": "python",
   "nbconvert_exporter": "python",
   "pygments_lexer": "ipython3",
   "version": "3.9.18"
  }
 },
 "nbformat": 4,
 "nbformat_minor": 5
}
